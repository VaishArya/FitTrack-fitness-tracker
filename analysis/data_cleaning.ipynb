{
 "cells": [
  {
   "cell_type": "code",
   "execution_count": null,
   "metadata": {
    "vscode": {
     "languageId": "plaintext"
    }
   },
   "outputs": [],
   "source": [
    "import pandas as pd\n",
    "import os\n",
    "\n",
    "# Load data\n",
    "data_path = \"../data/\"\n",
    "daily_activity = pd.read_csv(data_path + 'dailyActivity_merged.csv')\n",
    "heart_rate = pd.read_csv(data_path + 'heartrate_seconds_merged.csv')\n",
    "hourly_calories = pd.read_csv(data_path + 'hourlyCalories_merged.csv')\n",
    "hourly_steps = pd.read_csv(data_path + 'hourlySteps_merged.csv')\n",
    "\n",
    "# Merge data\n",
    "merged = pd.merge(daily_activity, hourly_calories, on='Id', how='inner')\n",
    "merged = pd.merge(merged, hourly_steps, on=['Id', 'ActivityHour'], how='inner')\n",
    "\n",
    "# Clean missing values\n",
    "merged.dropna(inplace=True)\n",
    "\n",
    "# Save cleaned data\n",
    "merged.to_csv('../data/cleaned_data.csv', index=False)\n",
    "print(\"✅ Data Cleaning Done\")\n"
   ]
  }
 ],
 "metadata": {
  "language_info": {
   "name": "python"
  }
 },
 "nbformat": 4,
 "nbformat_minor": 2
}
