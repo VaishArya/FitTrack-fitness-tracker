{
 "cells": [
  {
   "cell_type": "code",
   "execution_count": null,
   "metadata": {
    "vscode": {
     "languageId": "plaintext"
    }
   },
   "outputs": [],
   "source": [
    "import pandas as pd\n",
    "import matplotlib.pyplot as plt\n",
    "import seaborn as sns\n",
    "\n",
    "# Load cleaned data\n",
    "data = pd.read_csv('../data/cleaned_data.csv')\n",
    "\n",
    "# Overview of data\n",
    "print(data.head())\n",
    "print(data.describe())\n",
    "\n",
    "# Correlation heatmap\n",
    "plt.figure(figsize=(10, 6))\n",
    "sns.heatmap(data.corr(), cmap=\"coolwarm\", annot=True)\n",
    "plt.title(\"Correlation Heatmap\")\n",
    "plt.show()\n",
    "\n",
    "# Steps vs Calories Burned\n",
    "plt.figure(figsize=(8, 5))\n",
    "sns.scatterplot(x='TotalSteps', y='Calories', data=data, alpha=0.7)\n",
    "plt.title(\"Total Steps vs Calories Burned\")\n",
    "plt.show()\n"
   ]
  }
 ],
 "metadata": {
  "language_info": {
   "name": "python"
  }
 },
 "nbformat": 4,
 "nbformat_minor": 2
}
